{
 "cells": [
  {
   "cell_type": "code",
   "execution_count": 1,
   "metadata": {},
   "outputs": [],
   "source": [
    "import pandas as pd"
   ]
  },
  {
   "cell_type": "code",
   "execution_count": 4,
   "metadata": {},
   "outputs": [],
   "source": [
    "inv = pd.read_csv('data/inventory_item.csv')"
   ]
  },
  {
   "cell_type": "code",
   "execution_count": 5,
   "metadata": {},
   "outputs": [
    {
     "data": {
      "text/html": [
       "<div>\n",
       "<style scoped>\n",
       "    .dataframe tbody tr th:only-of-type {\n",
       "        vertical-align: middle;\n",
       "    }\n",
       "\n",
       "    .dataframe tbody tr th {\n",
       "        vertical-align: top;\n",
       "    }\n",
       "\n",
       "    .dataframe thead th {\n",
       "        text-align: right;\n",
       "    }\n",
       "</style>\n",
       "<table border=\"1\" class=\"dataframe\">\n",
       "  <thead>\n",
       "    <tr style=\"text-align: right;\">\n",
       "      <th></th>\n",
       "      <th>Unnamed: 0</th>\n",
       "      <th>id</th>\n",
       "      <th>item_code</th>\n",
       "      <th>item_name</th>\n",
       "      <th>item_type</th>\n",
       "      <th>storage_fee_per_month</th>\n",
       "      <th>transaction_fee_per_tonne</th>\n",
       "      <th>price_per_unit</th>\n",
       "      <th>is_tradeable</th>\n",
       "      <th>updated</th>\n",
       "      <th>is_handling_and_fees</th>\n",
       "    </tr>\n",
       "  </thead>\n",
       "  <tbody>\n",
       "    <tr>\n",
       "      <th>0</th>\n",
       "      <td>0</td>\n",
       "      <td>17</td>\n",
       "      <td>CCO</td>\n",
       "      <td>Cocoa</td>\n",
       "      <td>Commodity</td>\n",
       "      <td>5000.0</td>\n",
       "      <td>0.0</td>\n",
       "      <td>650000.0</td>\n",
       "      <td>True</td>\n",
       "      <td>2019-01-22 19:19:01.137304+00:00</td>\n",
       "      <td>False</td>\n",
       "    </tr>\n",
       "    <tr>\n",
       "      <th>1</th>\n",
       "      <td>1</td>\n",
       "      <td>18</td>\n",
       "      <td>GNG</td>\n",
       "      <td>Ginger Dried Split</td>\n",
       "      <td>Commodity</td>\n",
       "      <td>2000.0</td>\n",
       "      <td>0.0</td>\n",
       "      <td>300000.0</td>\n",
       "      <td>True</td>\n",
       "      <td>2019-01-22 19:19:01.137304+00:00</td>\n",
       "      <td>False</td>\n",
       "    </tr>\n",
       "    <tr>\n",
       "      <th>2</th>\n",
       "      <td>2</td>\n",
       "      <td>19</td>\n",
       "      <td>MAZ</td>\n",
       "      <td>Maize Feed Grade - White</td>\n",
       "      <td>Commodity</td>\n",
       "      <td>500.0</td>\n",
       "      <td>500.0</td>\n",
       "      <td>77000.0</td>\n",
       "      <td>True</td>\n",
       "      <td>2019-01-22 19:19:01.137304+00:00</td>\n",
       "      <td>False</td>\n",
       "    </tr>\n",
       "    <tr>\n",
       "      <th>3</th>\n",
       "      <td>3</td>\n",
       "      <td>21</td>\n",
       "      <td>SBS</td>\n",
       "      <td>Soyabean</td>\n",
       "      <td>Commodity</td>\n",
       "      <td>1000.0</td>\n",
       "      <td>1000.0</td>\n",
       "      <td>138000.0</td>\n",
       "      <td>True</td>\n",
       "      <td>2019-01-22 19:19:01.137304+00:00</td>\n",
       "      <td>False</td>\n",
       "    </tr>\n",
       "    <tr>\n",
       "      <th>4</th>\n",
       "      <td>4</td>\n",
       "      <td>22</td>\n",
       "      <td>SGM</td>\n",
       "      <td>Sorghum</td>\n",
       "      <td>Commodity</td>\n",
       "      <td>500.0</td>\n",
       "      <td>500.0</td>\n",
       "      <td>78000.0</td>\n",
       "      <td>True</td>\n",
       "      <td>2019-01-22 19:19:01.137304+00:00</td>\n",
       "      <td>False</td>\n",
       "    </tr>\n",
       "  </tbody>\n",
       "</table>\n",
       "</div>"
      ],
      "text/plain": [
       "   Unnamed: 0  id item_code                 item_name  item_type  \\\n",
       "0           0  17       CCO                     Cocoa  Commodity   \n",
       "1           1  18       GNG        Ginger Dried Split  Commodity   \n",
       "2           2  19       MAZ  Maize Feed Grade - White  Commodity   \n",
       "3           3  21       SBS                  Soyabean  Commodity   \n",
       "4           4  22       SGM                   Sorghum  Commodity   \n",
       "\n",
       "   storage_fee_per_month  transaction_fee_per_tonne  price_per_unit  \\\n",
       "0                 5000.0                        0.0        650000.0   \n",
       "1                 2000.0                        0.0        300000.0   \n",
       "2                  500.0                      500.0         77000.0   \n",
       "3                 1000.0                     1000.0        138000.0   \n",
       "4                  500.0                      500.0         78000.0   \n",
       "\n",
       "   is_tradeable                           updated  is_handling_and_fees  \n",
       "0          True  2019-01-22 19:19:01.137304+00:00                 False  \n",
       "1          True  2019-01-22 19:19:01.137304+00:00                 False  \n",
       "2          True  2019-01-22 19:19:01.137304+00:00                 False  \n",
       "3          True  2019-01-22 19:19:01.137304+00:00                 False  \n",
       "4          True  2019-01-22 19:19:01.137304+00:00                 False  "
      ]
     },
     "execution_count": 5,
     "metadata": {},
     "output_type": "execute_result"
    }
   ],
   "source": [
    "inv.head(5)"
   ]
  },
  {
   "cell_type": "code",
   "execution_count": 8,
   "metadata": {},
   "outputs": [
    {
     "data": {
      "text/plain": [
       "Unnamed: 0                                                  0\n",
       "id                                                         17\n",
       "item_code                                                 CCO\n",
       "item_name                                               Cocoa\n",
       "item_type                                           Commodity\n",
       "storage_fee_per_month                                    5000\n",
       "transaction_fee_per_tonne                                   0\n",
       "price_per_unit                                         650000\n",
       "is_tradeable                                             True\n",
       "updated                      2019-01-22 19:19:01.137304+00:00\n",
       "is_handling_and_fees                                    False\n",
       "Name: 0, dtype: object"
      ]
     },
     "execution_count": 8,
     "metadata": {},
     "output_type": "execute_result"
    }
   ],
   "source": [
    "inv.loc[0]"
   ]
  },
  {
   "cell_type": "code",
   "execution_count": 9,
   "metadata": {},
   "outputs": [
    {
     "data": {
      "text/plain": [
       "0      0\n",
       "1      1\n",
       "2      2\n",
       "3      3\n",
       "4      4\n",
       "5      5\n",
       "6      6\n",
       "7      7\n",
       "8      8\n",
       "9      9\n",
       "10    10\n",
       "11    11\n",
       "12    12\n",
       "13    13\n",
       "14    14\n",
       "15    15\n",
       "16    16\n",
       "17    17\n",
       "18    18\n",
       "19    19\n",
       "20    20\n",
       "21    21\n",
       "22    22\n",
       "23    23\n",
       "24    24\n",
       "25    25\n",
       "26    26\n",
       "27    27\n",
       "28    28\n",
       "29    29\n",
       "30    30\n",
       "31    31\n",
       "32    32\n",
       "33    33\n",
       "34    34\n",
       "35    35\n",
       "36    36\n",
       "37    37\n",
       "38    38\n",
       "39    39\n",
       "40    40\n",
       "41    41\n",
       "42    42\n",
       "43    43\n",
       "44    44\n",
       "45    45\n",
       "46    46\n",
       "47    47\n",
       "48    48\n",
       "49    49\n",
       "50    50\n",
       "51    51\n",
       "52    52\n",
       "53    53\n",
       "54    54\n",
       "55    55\n",
       "56    56\n",
       "Name: Unnamed: 0, dtype: int64"
      ]
     },
     "execution_count": 9,
     "metadata": {},
     "output_type": "execute_result"
    }
   ],
   "source": [
    "inv['Unnamed: 0']"
   ]
  },
  {
   "cell_type": "code",
   "execution_count": null,
   "metadata": {},
   "outputs": [],
   "source": []
  }
 ],
 "metadata": {
  "kernelspec": {
   "display_name": "Python 3",
   "language": "python",
   "name": "python3"
  },
  "language_info": {
   "codemirror_mode": {
    "name": "ipython",
    "version": 3
   },
   "file_extension": ".py",
   "mimetype": "text/x-python",
   "name": "python",
   "nbconvert_exporter": "python",
   "pygments_lexer": "ipython3",
   "version": "3.6.5"
  }
 },
 "nbformat": 4,
 "nbformat_minor": 2
}
